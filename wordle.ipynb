{
 "cells": [
  {
   "cell_type": "code",
   "execution_count": 33,
   "metadata": {},
   "outputs": [],
   "source": [
    "import numpy as np\n",
    "import pandas as pd\n",
    "import collections"
   ]
  },
  {
   "cell_type": "code",
   "execution_count": 21,
   "metadata": {},
   "outputs": [],
   "source": [
    "# Words that are answers\n",
    "word_answers = np.loadtxt(\"wordle-answers-alphabetical.txt\", comments=\"#\", delimiter=\"\\n\", unpack=False, dtype=str)\n",
    "# Words that are accepted, not including answers\n",
    "word_allowed = np.loadtxt(\"wordle-allowed-guesses.txt\", comments=\"#\", delimiter=\"\\n\", unpack=False, dtype=str)\n",
    "\n",
    "num_answers = len(word_answers)\n",
    "num_allowed = len(word_allowed)\n",
    "\n",
    "# Separate into letters\n",
    "# E.g. letter[0] is the list of all first letters of the words\n",
    "letter_answers = list(zip(*[list(_) for _ in word_answers]))\n",
    "letter_allowed = list(zip(*[list(_) for _ in word_allowed]))\n",
    "\n"
   ]
  },
  {
   "cell_type": "code",
   "execution_count": 23,
   "metadata": {},
   "outputs": [
    {
     "data": {
      "text/plain": [
       "5"
      ]
     },
     "execution_count": 23,
     "metadata": {},
     "output_type": "execute_result"
    }
   ],
   "source": []
  },
  {
   "cell_type": "code",
   "execution_count": null,
   "metadata": {},
   "outputs": [],
   "source": []
  },
  {
   "cell_type": "markdown",
   "metadata": {},
   "source": [
    "### Summary statistics"
   ]
  },
  {
   "cell_type": "code",
   "execution_count": 39,
   "metadata": {},
   "outputs": [
    {
     "data": {
      "text/plain": [
       "{'s': 366,\n",
       " 'c': 198,\n",
       " 'b': 173,\n",
       " 't': 149,\n",
       " 'p': 142,\n",
       " 'a': 141,\n",
       " 'f': 136,\n",
       " 'g': 115,\n",
       " 'd': 111,\n",
       " 'm': 107,\n",
       " 'r': 105,\n",
       " 'l': 88,\n",
       " 'w': 83,\n",
       " 'e': 72,\n",
       " 'h': 69,\n",
       " 'v': 43,\n",
       " 'o': 41,\n",
       " 'n': 37,\n",
       " 'i': 34,\n",
       " 'u': 33,\n",
       " 'q': 23,\n",
       " 'j': 20,\n",
       " 'k': 20,\n",
       " 'y': 6,\n",
       " 'z': 3}"
      ]
     },
     "execution_count": 39,
     "metadata": {},
     "output_type": "execute_result"
    }
   ],
   "source": [
    "# Most common letters\n",
    "first = letter_answers[0]\n",
    "\n",
    "c = collections.Counter(first)\n",
    "\n",
    "dict(c.most_common())"
   ]
  },
  {
   "cell_type": "code",
   "execution_count": null,
   "metadata": {},
   "outputs": [],
   "source": []
  }
 ],
 "metadata": {
  "interpreter": {
   "hash": "b3ba2566441a7c06988d0923437866b63cedc61552a5af99d1f4fb67d367b25f"
  },
  "kernelspec": {
   "display_name": "Python 3.8.5 64-bit ('base': conda)",
   "language": "python",
   "name": "python3"
  },
  "language_info": {
   "codemirror_mode": {
    "name": "ipython",
    "version": 3
   },
   "file_extension": ".py",
   "mimetype": "text/x-python",
   "name": "python",
   "nbconvert_exporter": "python",
   "pygments_lexer": "ipython3",
   "version": "3.8.5"
  },
  "orig_nbformat": 4
 },
 "nbformat": 4,
 "nbformat_minor": 2
}
