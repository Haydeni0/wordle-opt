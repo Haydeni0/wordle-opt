{
 "cells": [
  {
   "cell_type": "code",
   "execution_count": 1,
   "metadata": {},
   "outputs": [],
   "source": [
    "import numpy as np\n",
    "import pandas as pd\n",
    "import collections"
   ]
  },
  {
   "cell_type": "code",
   "execution_count": 85,
   "metadata": {},
   "outputs": [],
   "source": [
    "# Words that are answers\n",
    "word_answers = list(np.loadtxt(\"wordle-answers-alphabetical.txt\", comments=\"#\", delimiter=\"\\n\", unpack=False, dtype=str))\n",
    "# Words that are accepted, not including answers\n",
    "word_allowed = list(np.loadtxt(\"wordle-allowed-guesses.txt\", comments=\"#\", delimiter=\"\\n\", unpack=False, dtype=str))\n",
    "\n",
    "num_answers = len(word_answers)\n",
    "num_allowed = len(word_allowed)\n",
    "\n",
    "# Separate into letters\n",
    "# E.g. letter[0] is the list of all first letters of the words\n",
    "letter_answers = list(zip(*[list(_) for _ in word_answers]))\n",
    "letter_allowed = list(zip(*[list(_) for _ in word_allowed]))\n",
    "\n",
    "# Flattened list of letters (all letters regardless of position)\n",
    "all_letter_answers = [item for sublist in letter_answers for item in sublist]\n",
    "all_letter_allowed = [item for sublist in letter_allowed for item in sublist]\n",
    "\n"
   ]
  },
  {
   "cell_type": "code",
   "execution_count": 6,
   "metadata": {},
   "outputs": [
    {
     "data": {
      "text/plain": [
       "53285"
      ]
     },
     "execution_count": 6,
     "metadata": {},
     "output_type": "execute_result"
    }
   ],
   "source": []
  },
  {
   "cell_type": "code",
   "execution_count": null,
   "metadata": {},
   "outputs": [],
   "source": []
  },
  {
   "cell_type": "markdown",
   "metadata": {},
   "source": [
    "## Wordle game as a python function"
   ]
  },
  {
   "cell_type": "code",
   "execution_count": 94,
   "metadata": {},
   "outputs": [
    {
     "data": {
      "text/plain": [
       "({'a'}, {'e', 'o', 'r', 't'}, [False, False, True, False, False], 'aback')"
      ]
     },
     "execution_count": 94,
     "metadata": {},
     "output_type": "execute_result"
    }
   ],
   "source": [
    "def wordle(target_word_idx: int, guess: str):\n",
    "    if not (len(guess) == 5):\n",
    "        raise AssertionError(\"Guess needs to have 5 letters\")\n",
    "    if not (guess in (word_answers + word_allowed)):\n",
    "        raise AssertionError(\"Guess is not in the word list\")\n",
    "\n",
    "    target_word = word_answers[target_word_idx]\n",
    "    target_letters = list(target_word)\n",
    "\n",
    "    guess_letters = list(guess)\n",
    "\n",
    "    correct_location = [target_letters[j] == guess_letters[j] for j in range(5)]\n",
    "    correct_letters = set(target_letters).intersection(set(guess_letters))\n",
    "\n",
    "    incorrect_letters = set(guess_letters) - correct_letters\n",
    "\n",
    "    return (correct_letters, incorrect_letters, correct_location, target_word)\n",
    "\n",
    "    \n",
    "    \n",
    "    \n",
    "    \n",
    "\n",
    "wordle(0, \"orate\")\n",
    "    \n"
   ]
  },
  {
   "cell_type": "markdown",
   "metadata": {},
   "source": [
    "### Summary statistics"
   ]
  },
  {
   "cell_type": "code",
   "execution_count": null,
   "metadata": {},
   "outputs": [],
   "source": [
    "# Most common letters in a certain position\n",
    "letter_idx = 0\n",
    "letters_in_pos = list(letter_answers[letter_idx]) + list(letter_allowed[letter_idx])\n",
    "c = collections.Counter(letters_in_pos)\n",
    "\n",
    "dict(c.most_common())"
   ]
  },
  {
   "cell_type": "code",
   "execution_count": null,
   "metadata": {},
   "outputs": [],
   "source": [
    "# Most common letters in general\n",
    "letters = list(all_letter_answers) + list(all_letter_allowed)\n",
    "c = collections.Counter(letters)\n",
    "\n",
    "dict(c.most_common())"
   ]
  },
  {
   "cell_type": "markdown",
   "metadata": {},
   "source": [
    "## Strategy 1\n",
    "- Use all answers and allowed words\n",
    "- Guess words regardless of positional knowledge"
   ]
  },
  {
   "cell_type": "code",
   "execution_count": 88,
   "metadata": {},
   "outputs": [
    {
     "data": {
      "text/plain": [
       "'osier'"
      ]
     },
     "execution_count": 88,
     "metadata": {},
     "output_type": "execute_result"
    }
   ],
   "source": [
    "all_letters = list(all_letter_answers) + list(all_letter_allowed)\n",
    "all_words = word_answers + word_allowed\n",
    "\n",
    "\n",
    "count_letters = collections.Counter(all_letters)\n",
    "# Create a scoring system for letters based on their popularity\n",
    "letter_score = dict(count_letters.most_common())\n",
    "# Divide through by the sum of all scores, so they all add to 1\n",
    "total = sum(letter_score.values())\n",
    "letter_score = {k: v / total for k, v in letter_score.items()}\n",
    "\n",
    "# For each word, get the list of unique letters in it\n",
    "word_letter_set = [list(set(list(_))) for _ in all_words]\n",
    "\n",
    "def bestWord(banned_letters: list = []) -> str:\n",
    "    # Make a copy of letter scoring without banned letters\n",
    "    ls = dict(letter_score)\n",
    "    for b in banned_letters:\n",
    "        ls[b] = 0\n",
    "    # Calculate the letter score for each word\n",
    "\n",
    "    word_score = []\n",
    "    for w in word_letter_set:\n",
    "        score = sum([ls[_] for _ in w])\n",
    "        word_score.append(score)\n",
    "\n",
    "    best_idx = np.argmax(word_score)\n",
    "\n",
    "    best_word = all_words[best_idx]\n",
    "\n",
    "    return best_word\n",
    "\n",
    "\n",
    "bestWord([\"a\", \"b\", \"c\"])\n"
   ]
  },
  {
   "cell_type": "code",
   "execution_count": 67,
   "metadata": {},
   "outputs": [
    {
     "data": {
      "text/plain": [
       "16"
      ]
     },
     "execution_count": 67,
     "metadata": {},
     "output_type": "execute_result"
    }
   ],
   "source": [
    "2**4"
   ]
  }
 ],
 "metadata": {
  "interpreter": {
   "hash": "b3ba2566441a7c06988d0923437866b63cedc61552a5af99d1f4fb67d367b25f"
  },
  "kernelspec": {
   "display_name": "Python 3.8.5 64-bit ('base': conda)",
   "language": "python",
   "name": "python3"
  },
  "language_info": {
   "codemirror_mode": {
    "name": "ipython",
    "version": 3
   },
   "file_extension": ".py",
   "mimetype": "text/x-python",
   "name": "python",
   "nbconvert_exporter": "python",
   "pygments_lexer": "ipython3",
   "version": "3.8.5"
  },
  "orig_nbformat": 4
 },
 "nbformat": 4,
 "nbformat_minor": 2
}
