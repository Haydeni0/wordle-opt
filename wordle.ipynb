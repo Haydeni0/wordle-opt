{
 "cells": [
  {
   "cell_type": "code",
   "execution_count": null,
   "metadata": {},
   "outputs": [],
   "source": [
    "import numpy as np\n",
    "import pandas as pd\n",
    "import collections\n",
    "import time"
   ]
  },
  {
   "cell_type": "code",
   "execution_count": null,
   "metadata": {},
   "outputs": [],
   "source": [
    "# Words that are answers\n",
    "word_answers = list(np.loadtxt(\"wordle-answers-alphabetical.txt\", comments=\"#\", delimiter=\"\\n\", unpack=False, dtype=str))\n",
    "# Words that are accepted, not including answers\n",
    "word_allowed = list(np.loadtxt(\"wordle-allowed-guesses.txt\", comments=\"#\", delimiter=\"\\n\", unpack=False, dtype=str))\n",
    "\n",
    "num_answers = len(word_answers)\n",
    "num_allowed = len(word_allowed)\n",
    "\n",
    "# Separate into letters\n",
    "# E.g. letter[0] is the list of all first letters of the words\n",
    "letter_answers = list(zip(*[list(_) for _ in word_answers]))\n",
    "letter_allowed = list(zip(*[list(_) for _ in word_allowed]))\n",
    "\n",
    "# Flattened list of letters (all letters regardless of position)\n",
    "all_letter_answers = [item for sublist in letter_answers for item in sublist]\n",
    "all_letter_allowed = [item for sublist in letter_allowed for item in sublist]\n",
    "\n",
    "all_letters = list(all_letter_answers) + list(all_letter_allowed)\n",
    "all_words = word_answers + word_allowed"
   ]
  },
  {
   "cell_type": "code",
   "execution_count": null,
   "metadata": {},
   "outputs": [],
   "source": []
  },
  {
   "cell_type": "code",
   "execution_count": null,
   "metadata": {},
   "outputs": [],
   "source": []
  },
  {
   "cell_type": "markdown",
   "metadata": {},
   "source": [
    "## Wordle game as a python function"
   ]
  },
  {
   "cell_type": "code",
   "execution_count": null,
   "metadata": {},
   "outputs": [],
   "source": [
    "def wordle(target_word_idx: int, guess: str) -> dict:\n",
    "    # For a chosen target word (identified by index), make a guess\n",
    "    # This function will output in a dictionary:\n",
    "    #   - \"correct_guess\" [boolean]: Whether the guess was correct or not,\n",
    "    #   - \"correct_letters\" [set]: The letters in the guess that were correct\n",
    "    #   - \"incorrect_letters\" [set]: The letters in the guess that were incorrect\n",
    "    #   - \"correct_letter_locations\" [list]: The letters in the guess that were correct and in the right place,\n",
    "    #       e.g. ['m', '', 'd', '', ''] for guessing \"medal\" for the target word \"modem\"\n",
    "\n",
    "    if not (len(guess) == 5):\n",
    "        raise AssertionError(\"Guess needs to have 5 letters\")\n",
    "    if not (guess in (word_answers + word_allowed)):\n",
    "        raise AssertionError(\"Guess is not in the word list\")\n",
    "\n",
    "    target_word = word_answers[target_word_idx]\n",
    "    target_letters = list(target_word)\n",
    "\n",
    "    guess_letters = list(guess)\n",
    "\n",
    "    correct_locations = [target_letters[j] ==\n",
    "                         guess_letters[j] for j in range(5)]\n",
    "    correct_letter_locations = [(guess_letters[j] if (target_letters[j] == guess_letters[j]) else \"\") for j in range(5)]\n",
    "\n",
    "    correct_letters = set(target_letters).intersection(set(guess_letters))\n",
    "\n",
    "    incorrect_letters = set(guess_letters) - correct_letters\n",
    "\n",
    "    result = {\"correct_guess\": np.prod(correct_locations) == 1,\n",
    "              \"correct_letters\": correct_letters,\n",
    "              \"incorrect_letters\": incorrect_letters,\n",
    "              \"correct_letter_locations\": correct_letter_locations}\n",
    "\n",
    "    return result\n",
    "\n",
    "\n",
    "target_word_idx = 1245\n",
    "print(f\"{word_answers[target_word_idx]}\")\n",
    "wordle(target_word_idx, \"medal\")\n"
   ]
  },
  {
   "cell_type": "markdown",
   "metadata": {},
   "source": [
    "### Summary statistics"
   ]
  },
  {
   "cell_type": "code",
   "execution_count": null,
   "metadata": {},
   "outputs": [],
   "source": [
    "# Most common letters in a certain position\n",
    "letter_idx = 0\n",
    "letters_in_pos = list(letter_answers[letter_idx]) + list(letter_allowed[letter_idx])\n",
    "c = collections.Counter(letters_in_pos)\n",
    "\n",
    "dict(c.most_common())"
   ]
  },
  {
   "cell_type": "code",
   "execution_count": null,
   "metadata": {},
   "outputs": [],
   "source": [
    "# Most common letters in general\n",
    "letters = list(all_letter_answers) + list(all_letter_allowed)\n",
    "c = collections.Counter(letters)\n",
    "\n",
    "dict(c.most_common())"
   ]
  },
  {
   "cell_type": "markdown",
   "metadata": {},
   "source": [
    "## Strategy 1\n",
    "- Use all answers and allowed words\n",
    "- Guess words based on incorrect letters only\n",
    "- Uses letter score based on letter frequency regardless of position\n",
    "    "
   ]
  },
  {
   "cell_type": "code",
   "execution_count": null,
   "metadata": {},
   "outputs": [],
   "source": [
    "\n",
    "count_letters = collections.Counter(all_letters)\n",
    "# Create a scoring system for letters based on their popularity\n",
    "letter_score = dict(count_letters.most_common())\n",
    "# Divide through by the sum of all scores, so they all add to 1\n",
    "total = sum(letter_score.values())\n",
    "letter_score = {k: v / total for k, v in letter_score.items()}\n",
    "\n",
    "# For each word, get the list of unique letters in it\n",
    "word_letter_set = [list(set(list(_))) for _ in all_words]\n",
    "\n",
    "def bestWord1(banned_letters: set = set(), banned_words: set = set(), correct_letters: set = set(), correct_letter_locations: list = ['', '', '', '', '']) -> str:\n",
    "    # Make a copy of letter scoring without banned letters\n",
    "    ls = dict(letter_score)\n",
    "    for b in banned_letters:\n",
    "        ls[b] = 0\n",
    "    \n",
    "    # Calculate the letter score for each word\n",
    "    word_score = []\n",
    "    for w in word_letter_set:\n",
    "        score = sum([ls[_] for _ in w])\n",
    "        word_score.append(score)\n",
    "\n",
    "    # Get the word indices of the banned words\n",
    "    banned_word_idx = [all_words.index(_) for _ in banned_words]\n",
    "    # Set banned word scores to zero\n",
    "    for j in banned_word_idx:\n",
    "        word_score[j] = 0\n",
    "    \n",
    "\n",
    "    best_idx = np.argmax(word_score)\n",
    "\n",
    "    best_word = all_words[best_idx]\n",
    "\n",
    "    return best_word\n",
    "\n",
    "\n",
    "bestWord1([\"a\", \"b\", \"c\", \"l\"], [\"osier\"])\n",
    "\n",
    "\n"
   ]
  },
  {
   "cell_type": "code",
   "execution_count": null,
   "metadata": {},
   "outputs": [],
   "source": []
  },
  {
   "cell_type": "markdown",
   "metadata": {},
   "source": [
    "## Strategy 2\n",
    "- Uses all answers and allowed words\n",
    "- Guess words based on incorrect letters and forces correct placements"
   ]
  },
  {
   "cell_type": "code",
   "execution_count": null,
   "metadata": {},
   "outputs": [],
   "source": [
    "def bestWord2(banned_letters: set = set(), banned_words: set = set(), correct_letters: set = set(), correct_letter_locations: list = ['', '', '', '', '']) -> str:\n",
    "    # Make a copy of letter scoring without banned letters\n",
    "    ls = dict(letter_score)\n",
    "    for b in banned_letters:\n",
    "        ls[b] = 0\n",
    "    \n",
    "    # Calculate the letter score for each word\n",
    "    word_score = []\n",
    "    for w in word_letter_set:\n",
    "        score = sum([ls[_] for _ in w])\n",
    "        word_score.append(score)\n",
    "\n",
    "    # Get the word indices of the banned words\n",
    "    banned_word_idx = [all_words.index(_) for _ in banned_words]\n",
    "    # Set banned word scores to zero\n",
    "    for j in banned_word_idx:\n",
    "        word_score[j] = 0\n",
    "    \n",
    "\n",
    "    best_idx = np.argmax(word_score)\n",
    "\n",
    "    best_word = all_words[best_idx]\n",
    "\n",
    "    return best_word"
   ]
  },
  {
   "cell_type": "markdown",
   "metadata": {},
   "source": [
    "# Play the game\n",
    "using strategy 1"
   ]
  },
  {
   "cell_type": "code",
   "execution_count": null,
   "metadata": {},
   "outputs": [],
   "source": [
    "target_word_idx = 6\n",
    "print(f\"Target word: {word_answers[target_word_idx]}\\n\")\n",
    "\n",
    "banned_letters = set()\n",
    "banned_words = set()\n",
    "num_guesses = 0\n",
    "guesses = []\n",
    "while True:\n",
    "    best_word = bestWord1(list(banned_letters), list(banned_words))\n",
    "    guesses.append(best_word)\n",
    "    num_guesses = num_guesses + 1\n",
    "\n",
    "    result = wordle(target_word_idx, best_word)\n",
    "\n",
    "    if result[\"correct_guess\"]:\n",
    "        break\n",
    "    \n",
    "    banned_letters = banned_letters.union(result[\"incorrect_letters\"])\n",
    "    banned_words = banned_words.union([best_word])\n",
    "    # print(best_word)\n",
    "    # print(banned_letters)\n",
    "    # time.sleep(1)\n",
    "\n",
    "print(f\"Number of guesses: {num_guesses}\")\n",
    "print(guesses)\n"
   ]
  },
  {
   "cell_type": "code",
   "execution_count": null,
   "metadata": {},
   "outputs": [],
   "source": [
    "# Function that takes the bestWord function as an input and plays every game of wordle (for all word_answers)\n",
    "# def playWordle(bestWord, )"
   ]
  },
  {
   "cell_type": "code",
   "execution_count": null,
   "metadata": {},
   "outputs": [],
   "source": []
  },
  {
   "cell_type": "code",
   "execution_count": null,
   "metadata": {},
   "outputs": [],
   "source": []
  }
 ],
 "metadata": {
  "interpreter": {
   "hash": "b3ba2566441a7c06988d0923437866b63cedc61552a5af99d1f4fb67d367b25f"
  },
  "kernelspec": {
   "display_name": "Python 3.8.5 64-bit ('base': conda)",
   "language": "python",
   "name": "python3"
  },
  "language_info": {
   "codemirror_mode": {
    "name": "ipython",
    "version": 3
   },
   "file_extension": ".py",
   "mimetype": "text/x-python",
   "name": "python",
   "nbconvert_exporter": "python",
   "pygments_lexer": "ipython3",
   "version": "3.8.5"
  },
  "orig_nbformat": 4
 },
 "nbformat": 4,
 "nbformat_minor": 2
}
